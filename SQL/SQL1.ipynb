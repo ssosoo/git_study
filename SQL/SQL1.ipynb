{
  "nbformat": 4,
  "nbformat_minor": 0,
  "metadata": {
    "colab": {
      "provenance": [],
      "authorship_tag": "ABX9TyN/WK+70god8JbhWf1G5kTk",
      "include_colab_link": true
    },
    "kernelspec": {
      "name": "python3",
      "display_name": "Python 3"
    },
    "language_info": {
      "name": "python"
    }
  },
  "cells": [
    {
      "cell_type": "markdown",
      "metadata": {
        "id": "view-in-github",
        "colab_type": "text"
      },
      "source": [
        "<a href=\"https://colab.research.google.com/github/ssosoo/git_study/blob/main/SQL/SQL1.ipynb\" target=\"_parent\"><img src=\"https://colab.research.google.com/assets/colab-badge.svg\" alt=\"Open In Colab\"/></a>"
      ]
    },
    {
      "cell_type": "markdown",
      "source": [
        "**SQL Light 를 사용하기 때문에 cursor.execute() 함수 안에 실행한다.**"
      ],
      "metadata": {
        "id": "ojltbo4k_wdJ"
      }
    },
    {
      "cell_type": "code",
      "execution_count": 1,
      "metadata": {
        "colab": {
          "base_uri": "https://localhost:8080/"
        },
        "id": "UeVRzVNdzwlX",
        "outputId": "9573282c-2f06-4678-c489-8c047a352b1c"
      },
      "outputs": [
        {
          "output_type": "stream",
          "name": "stdout",
          "text": [
            "[(1, '홍길동', 25), (2, '이몽룡', 30)]\n"
          ]
        }
      ],
      "source": [
        "import sqlite3\n",
        "\n",
        "# 가상 데이터베이스 생성\n",
        "conn = sqlite3.connect(\":memory:\")\n",
        "cursor = conn.cursor()\n",
        "\n",
        "# 테이블 생성\n",
        "cursor.execute(\"CREATE TABLE users (id INTEGER PRIMARY KEY, name TEXT, age INTEGER);\")\n",
        "\n",
        "# 데이터 삽입\n",
        "cursor.execute(\"INSERT INTO users (name, age) VALUES ('홍길동', 25);\")\n",
        "cursor.execute(\"INSERT INTO users (name, age) VALUES ('이몽룡', 30);\")\n",
        "\n",
        "# 데이터 조회\n",
        "cursor.execute(\"SELECT * FROM users;\")\n",
        "print(cursor.fetchall())  # 결과 출력\n",
        "\n",
        "# 연결 종료\n",
        "conn.close()\n"
      ]
    },
    {
      "cell_type": "markdown",
      "source": [
        "**SELECT DISTINCT**\n",
        "\n",
        "조회 시 중복 값을 제외하고 교윳값만을 출력한다.\n"
      ],
      "metadata": {
        "id": "_O8jZ1iCM3Ix"
      }
    },
    {
      "cell_type": "code",
      "source": [
        "#EMP 테이블에서 모든 칼럼을 조회\n",
        "SELECT\n",
        "  *\n",
        "FROM\n",
        "  EMP;\n",
        "\n",
        "#EMP 테이블에서 특정 칼럼을 조회\n",
        "SELECT\n",
        "       EMPNO\n",
        "     , ENAME\n",
        "     , JOB\n",
        "FROM\n",
        "      EMP;\n",
        "\n",
        "\n",
        "#EMP 테이블에서 중복값을 제외한 칼럼을 조회\n",
        "SELECT DISTINCT\n",
        "      JOB\n",
        "FROM\n",
        "      EMP;\n"
      ],
      "metadata": {
        "id": "QdRvOdjT-x3s"
      },
      "execution_count": null,
      "outputs": []
    },
    {
      "cell_type": "markdown",
      "source": [
        "**AS**\n",
        "\n",
        "(ALIAS)를 사용해 칼럼 or 테이블에 임시 이름을 지정한다.\n",
        "\n",
        "\n",
        "별칭에 공백이 포함될 경우 큰따옴표 사용. \"사원 번호\""
      ],
      "metadata": {
        "id": "SWMQ1mPAJs_U"
      }
    },
    {
      "cell_type": "code",
      "source": [
        "from os import EX_TEMPFAIL\n",
        "SELECT\n",
        "      EMPNO AS 사원번호\n",
        "    , ENAME AS 사원이름\n",
        "FROM\n",
        "      EMP\n",
        "#데이터 정렬\n",
        "ORDER BY\n",
        "      EMPNO;"
      ],
      "metadata": {
        "id": "adJ7zq_rJ19Q"
      },
      "execution_count": null,
      "outputs": []
    },
    {
      "cell_type": "markdown",
      "source": [
        "**산술 연산자와 문자 합성 연산자**"
      ],
      "metadata": {
        "id": "HSZTRfU_yuTu"
      }
    },
    {
      "cell_type": "code",
      "source": [
        "SELECT\n",
        "      ENAME\n",
        "    , SAL\n",
        "    , COMM\n",
        "    , (SAL + NVL(COMM, 0)) AS TOTAL_COMP\n",
        "FROM\n",
        "      EMP;"
      ],
      "metadata": {
        "id": "O7EQwNOEyxhN"
      },
      "execution_count": null,
      "outputs": []
    },
    {
      "cell_type": "code",
      "source": [
        "SELECT\n",
        "      ENAME\n",
        "    , SAL\n",
        "    , COMM\n",
        "    , (SAL - NVL(COMM, 0)) AS NET_SAL\n",
        "FROM\n",
        "      EMP;"
      ],
      "metadata": {
        "id": "ZLIEFfNKza8v"
      },
      "execution_count": null,
      "outputs": []
    },
    {
      "cell_type": "code",
      "source": [
        "SELECT\n",
        "      ENAME\n",
        "    , SAL\n",
        "    , (SAL * 12) AS ANNUAL_SAL\n",
        "FROM\n",
        "      EMP;"
      ],
      "metadata": {
        "id": "31JgrAF6zfYZ"
      },
      "execution_count": null,
      "outputs": []
    },
    {
      "cell_type": "code",
      "source": [
        "SELECT\n",
        "      ENAME\n",
        "    , SAL\n",
        "    , (SAL / 12) AS WEEKLY_SAL\n",
        "FROM\n",
        "      EMP;"
      ],
      "metadata": {
        "id": "-yFu9hhtznFZ"
      },
      "execution_count": null,
      "outputs": []
    },
    {
      "cell_type": "code",
      "source": [
        "# 나머지 연산자(MySQL, PostgreSQL 등)\n",
        "# CASE WHEN 구문 사용\n",
        "SELECT\n",
        "      ENAME\n",
        "    , EMPNO\n",
        "    , CASE\n",
        "          WHEN EMPNO % 2 = 0 THEN '짝수'\n",
        "          ELSE '홀수'\n",
        "      END AS ID_TYPE\n",
        "FROM\n",
        "      EMP;"
      ],
      "metadata": {
        "id": "_W-LAeRezsFP"
      },
      "execution_count": null,
      "outputs": []
    },
    {
      "cell_type": "code",
      "source": [
        "# 문자 합성 연산자\n",
        "# SQL Server의 경우 문자와 문자를 연결할 때 '+' 사용\n",
        "SLECT\n",
        "      ENAME || ' is a ' || JOB EMPLOYEE_INFO\n",
        "FROM\n",
        "    EMP;"
      ],
      "metadata": {
        "id": "SH3QmCKB0RO0"
      },
      "execution_count": null,
      "outputs": []
    },
    {
      "cell_type": "markdown",
      "source": [
        "**NULL**\n",
        "\n",
        "\n",
        "더하기 연산에서 NULL이 나올 경우 결과또한 NULL이 된다.\n",
        "\n",
        "ex) 4000+NULL = NULL"
      ],
      "metadata": {
        "id": "7txUUlcVN4xG"
      }
    }
  ]
}